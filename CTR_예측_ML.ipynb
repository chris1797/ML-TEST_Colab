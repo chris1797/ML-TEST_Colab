{
  "nbformat": 4,
  "nbformat_minor": 0,
  "metadata": {
    "colab": {
      "provenance": [],
      "authorship_tag": "ABX9TyM0hotlj/5UObSTwXOkntrD",
      "include_colab_link": true
    },
    "kernelspec": {
      "name": "python3",
      "display_name": "Python 3"
    },
    "language_info": {
      "name": "python"
    }
  },
  "cells": [
    {
      "cell_type": "markdown",
      "metadata": {
        "id": "view-in-github",
        "colab_type": "text"
      },
      "source": [
        "<a href=\"https://colab.research.google.com/github/chris1797/ML-TEST_Colab/blob/main/CTR_%EC%98%88%EC%B8%A1_ML.ipynb\" target=\"_parent\"><img src=\"https://colab.research.google.com/assets/colab-badge.svg\" alt=\"Open In Colab\"/></a>"
      ]
    },
    {
      "cell_type": "code",
      "execution_count": 10,
      "metadata": {
        "colab": {
          "base_uri": "https://localhost:8080/"
        },
        "id": "S4CJIc6PnsVK",
        "outputId": "8b9ac607-f860-4d0a-d0c3-63e4f8c39600"
      },
      "outputs": [
        {
          "output_type": "stream",
          "name": "stdout",
          "text": [
            "ROC-AUC: 1.0000\n"
          ]
        }
      ],
      "source": [
        "import pandas as pd\n",
        "from sklearn.model_selection import train_test_split\n",
        "from sklearn.ensemble import RandomForestClassifier\n",
        "from sklearn.metrics import roc_auc_score\n",
        "\n",
        "# 데이터 정의\n",
        "data = {\n",
        "    \"age\": [25, 30, 22, 45, 35, 28, 50, 40, 23, 31],\n",
        "    \"gender\": [\"M\", \"F\", \"F\", \"M\", \"M\", \"F\", \"M\", \"F\", \"M\", \"F\"],\n",
        "    \"ad_type\": [\"banner\", \"video\", \"banner\", \"banner\", \"video\", \"video\", \"banner\", \"video\", \"banner\", \"banner\"],\n",
        "    \"time_on_page\": [5.1, 3.5, 2.2, 6.5, 4.3, 3.9, 7.1, 3.0, 2.7, 4.0],\n",
        "    \"clicked\": [1, 0, 0, 1, 1, 0, 1, 0, 0, 1]\n",
        "}\n",
        "\n",
        "# 1. 데이터프레임 생성\n",
        "df = pd.DataFrame(data)\n",
        "\n",
        "# 2. 범주형 변수 인코딩 (One-Hot Encoding)\n",
        "df_encoded = pd.get_dummies(df, columns=[\"gender\", \"ad_type\"])\n",
        "\n",
        "# 3. X, y 분리\n",
        "X = df_encoded.drop(columns=[\"clicked\"])\n",
        "y = df_encoded[\"clicked\"]\n",
        "\n",
        "# 4. 학습/테스트 분리\n",
        "X_train, X_test, y_train, y_test = train_test_split(X, y, test_size=0.2, random_state=42, stratify=y)\n",
        "\n",
        "# 5. 모델 학습\n",
        "model = RandomForestClassifier(n_estimators=100)\n",
        "model.fit(X_train, y_train)\n",
        "\n",
        "# 6. 평가\n",
        "y_pred = model.predict_proba(X_test)[:, 1]\n",
        "roc = roc_auc_score(y_test, y_pred)\n",
        "print(f\"ROC-AUC: {roc:.4f}\")"
      ]
    }
  ]
}